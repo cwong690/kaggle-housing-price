{
  "cells": [
    {
      "metadata": {
        "collapsed": true
      },
      "cell_type": "markdown",
      "source": "<h1>_**House Price Predictions**_"
    },
    {
      "metadata": {},
      "cell_type": "markdown",
      "source": "_description and goals_\n*what is the purpose and goal of model\n*source of data\n*number of rows\n*what is in the data\n*null values/cleaning process\n\nData fields  \nHere's a brief version of what you'll find in the data description file.  \n  \nSalePrice - the property's sale price in dollars. This is the target variable to predict.  \nMSSubClass: The building class  \nMSZoning: The general zoning classification  \nLotFrontage: Linear feet of street connected to property  \nLotArea: Lot size in square feet  \nStreet: Type of road access  \nAlley: Type of alley access  \nLotShape: General shape of property  \nLandContour: Flatness of the property  \nUtilities: Type of utilities available  \nLotConfig: Lot configuration  \nLandSlope: Slope of property  \nNeighborhood: Physical locations within Ames city limits  \nCondition1: Proximity to main road or railroad  \nCondition2: Proximity to main road or railroad (if a second is present)  \nBldgType: Type of dwelling  \nHouseStyle: Style of dwelling  \nOverallQual: Overall material and finish quality  \nOverallCond: Overall condition rating  \nYearBuilt: Original construction date  \nYearRemodAdd: Remodel date  \nRoofStyle: Type of roof  \nRoofMatl: Roof material  \nExterior1st: Exterior covering on house  \nExterior2nd: Exterior covering on house (if more than one material)  \nMasVnrType: Masonry veneer type  \nMasVnrArea: Masonry veneer area in square feet  \nExterQual: Exterior material quality  \nExterCond: Present condition of the material on the exterior  \nFoundation: Type of foundation  \nBsmtQual: Height of the basement  \nBsmtCond: General condition of the basement  \nBsmtExposure: Walkout or garden level basement walls  \nBsmtFinType1: Quality of basement finished area  \nBsmtFinSF1: Type 1 finished square feet  \nBsmtFinType2: Quality of second finished area (if present)  \nBsmtFinSF2: Type 2 finished square feet  \nBsmtUnfSF: Unfinished square feet of basement area  \nTotalBsmtSF: Total square feet of basement area  \nHeating: Type of heating  \nHeatingQC: Heating quality and condition  \nCentralAir: Central air conditioning  \nElectrical: Electrical system  \n1stFlrSF: First Floor square feet  \n2ndFlrSF: Second floor square feet  \nLowQualFinSF: Low quality finished square feet (all floors)  \nGrLivArea: Above grade (ground) living area square feet  \nBsmtFullBath: Basement full bathrooms  \nBsmtHalfBath: Basement half bathrooms  \nFullBath: Full bathrooms above grade  \nHalfBath: Half baths above grade  \nBedroom: Number of bedrooms above basement level  \nKitchen: Number of kitchens  \nKitchenQual: Kitchen quality  \nTotRmsAbvGrd: Total rooms above grade (does not include bathrooms)  \nFunctional: Home functionality rating  \nFireplaces: Number of fireplaces  \nFireplaceQu: Fireplace quality  \nGarageType: Garage location  \nGarageYrBlt: Year garage was built  \nGarageFinish: Interior finish of the garage  \nGarageCars: Size of garage in car capacity  \nGarageArea: Size of garage in square feet  \nGarageQual: Garage quality  \nGarageCond: Garage condition  \nPavedDrive: Paved driveway  \nWoodDeckSF: Wood deck area in square feet  \nOpenPorchSF: Open porch area in square feet  \nEnclosedPorch: Enclosed porch area in square feet  \n3SsnPorch: Three season porch area in square feet  \nScreenPorch: Screen porch area in square feet  \nPoolArea: Pool area in square feet  \nPoolQC: Pool quality  \nFence: Fence quality  \nMiscFeature: Miscellaneous feature not covered in other categories  \nMiscVal: $Value of miscellaneous feature  \nMoSold: Month Sold  \nYrSold: Year Sold  \nSaleType: Type of sale  \nSaleCondition: Condition of sale  "
    },
    {
      "metadata": {
        "trusted": true
      },
      "cell_type": "code",
      "source": "remove = ['Neighborhood', 'MasVnrArea', 'YearBuilt','GarageYrBuilt', 'YearRemodAdd', 'YrSold', 'BsmtFullBath', \n          'BsmtHalfBath', 'FullBath', 'HalfBath', 'BedroomAbvGr', 'KitchenAbvGr', 'GarageCond', 'GarageFinish', 'GarageQual', 'GarageType', \n          'GarageYrBlt','LotShape', 'LandSlope', 'ExterCond', 'BsmtCond', 'KitchenAbvGr', 'KitchenQual', 'FireplaceQu']",
      "execution_count": null,
      "outputs": []
    },
    {
      "metadata": {},
      "cell_type": "markdown",
      "source": "Importing important libraries that will be used to analyze and predict the final sales price."
    },
    {
      "metadata": {
        "trusted": true
      },
      "cell_type": "code",
      "source": "import numpy as np\nimport pandas as pd\nimport math\nimport seaborn as sns\nimport matplotlib.pyplot as plt\nfrom scipy.stats import norm, skew\nimport warnings\nwarnings.filterwarnings('ignore')\n%matplotlib inline",
      "execution_count": null,
      "outputs": []
    },
    {
      "metadata": {},
      "cell_type": "markdown",
      "source": "Then, we will read in the training and testing datasets. We will set our label, which is our target variable, as the 'Sale Price' column from the training data. There will not be 'Sale Price' column in the test dataset because that will be the value we are predicting. The feature columns are set to the whole training dataset but dropping the target variable column."
    },
    {
      "metadata": {
        "trusted": true
      },
      "cell_type": "code",
      "source": "test = pd.read_csv('test.csv')\ntrain = pd.read_csv('train.csv')\nlabel = train['SalePrice']",
      "execution_count": null,
      "outputs": []
    },
    {
      "metadata": {},
      "cell_type": "markdown",
      "source": "<h1> EDA </h1>"
    },
    {
      "metadata": {
        "trusted": true
      },
      "cell_type": "code",
      "source": "print(train.head(2))\nprint(train.tail(2))",
      "execution_count": null,
      "outputs": []
    },
    {
      "metadata": {
        "trusted": true
      },
      "cell_type": "code",
      "source": "print(test.head())\nprint(test.tail())",
      "execution_count": null,
      "outputs": []
    },
    {
      "metadata": {
        "trusted": true
      },
      "cell_type": "code",
      "source": "print(train.info())\ntrain.describe()",
      "execution_count": null,
      "outputs": []
    },
    {
      "metadata": {
        "trusted": true,
        "scrolled": true
      },
      "cell_type": "code",
      "source": "print(test.info())\ntest.describe()",
      "execution_count": null,
      "outputs": []
    },
    {
      "metadata": {
        "trusted": true
      },
      "cell_type": "code",
      "source": "print(train.shape)\ntest.shape",
      "execution_count": null,
      "outputs": []
    },
    {
      "metadata": {},
      "cell_type": "markdown",
      "source": "<h1> Missing Values </h1>"
    },
    {
      "metadata": {},
      "cell_type": "markdown",
      "source": "The shape of the training data is printed to see how many rows and columns we are dealing with.  \nA heatmap is created using seaborn to give a visualization of the null values throughout the dataset."
    },
    {
      "metadata": {
        "trusted": true
      },
      "cell_type": "code",
      "source": "print(train.shape)\nsns.heatmap(train.isnull(), cmap='viridis')",
      "execution_count": null,
      "outputs": []
    },
    {
      "metadata": {
        "trusted": true
      },
      "cell_type": "code",
      "source": "print(test.shape)\nsns.heatmap(test.isnull(), cmap='viridis')",
      "execution_count": null,
      "outputs": []
    },
    {
      "metadata": {},
      "cell_type": "markdown",
      "source": "Next, let's see how many null values are in each column."
    },
    {
      "metadata": {
        "trusted": true
      },
      "cell_type": "code",
      "source": "train_null = train.isnull().sum()\ntrain_null[train_null > 0].sort_values(ascending=False)",
      "execution_count": null,
      "outputs": []
    },
    {
      "metadata": {
        "trusted": true
      },
      "cell_type": "code",
      "source": "test_null = test.isnull().sum()\ntest_null[test_null > 0].sort_values(ascending=False)",
      "execution_count": null,
      "outputs": []
    },
    {
      "metadata": {
        "trusted": true
      },
      "cell_type": "code",
      "source": "test_null[test_null == 2].index",
      "execution_count": null,
      "outputs": []
    },
    {
      "metadata": {},
      "cell_type": "markdown",
      "source": "Upon examination of the descriptions of these columns missing values, it is determined that the house does not have those features. Therefore, we will fill the null values with either 0 for numeric columns or 'None' for categorical columns.  \nHowever, there are some exceptions."
    },
    {
      "metadata": {
        "trusted": true
      },
      "cell_type": "code",
      "source": "one_null = ['Exterior1st', 'Exterior2nd', 'BsmtFinSF1', 'BsmtFinSF2', 'BsmtUnfSF',\n       'TotalBsmtSF', 'KitchenQual', 'GarageCars', 'GarageArea', 'SaleType']\n\nfor col in one_null:\n    print(col)\n    print(test[test[col].isnull()])\n    print('\\n')",
      "execution_count": null,
      "outputs": []
    },
    {
      "metadata": {},
      "cell_type": "markdown",
      "source": "Row 691 is missing Exterior1st, Exterior2nd. Row 660 is missing BsmtFinSF1, BsmtFinSF2, BsmtUnfSF, TotalBsmtSF. Row 95 is missing KitchenQual. Row 1116 is missing GarageCars, GarageArea. Row 1029 is missing SaleType."
    },
    {
      "metadata": {},
      "cell_type": "markdown",
      "source": "Checking out the foundation type of Row 691 and then check to see what the most common Exterior1st is amongst rows with the same foundation type. We will fill in the Exterior1st missing value with the mode."
    },
    {
      "metadata": {
        "trusted": true
      },
      "cell_type": "code",
      "source": "test[test['Exterior1st'].isnull()]['Foundation']",
      "execution_count": null,
      "outputs": []
    },
    {
      "metadata": {
        "trusted": true,
        "scrolled": true
      },
      "cell_type": "code",
      "source": "print(test[test['Foundation']=='PConc']['Exterior1st'].mode())\ntest['Exterior1st'].fillna(value='VinylSd', inplace=True)\nprint(test[test['Exterior1st']=='VinylSd']['Exterior2nd'].mode())\ntest['Exterior2nd'].fillna(value='VinylSd', inplace=True)",
      "execution_count": null,
      "outputs": []
    },
    {
      "metadata": {},
      "cell_type": "markdown",
      "source": "Row 660 is missing a lot of basement related values. We will see if the BsmtQual is also null because that means it does not have a basement."
    },
    {
      "metadata": {
        "trusted": true
      },
      "cell_type": "code",
      "source": "test[test['Id']==2121][['BsmtQual','BsmtFinSF1', 'BsmtFinSF2', 'BsmtUnfSF', 'TotalBsmtSF']]",
      "execution_count": null,
      "outputs": []
    },
    {
      "metadata": {
        "trusted": true
      },
      "cell_type": "code",
      "source": "test[['BsmtFinSF1', 'BsmtFinSF2', 'BsmtUnfSF', 'TotalBsmtSF']].fillna(value=0, inplace=True)",
      "execution_count": null,
      "outputs": []
    },
    {
      "metadata": {
        "trusted": true
      },
      "cell_type": "code",
      "source": "print(test[test['KitchenQual'].isnull()]['KitchenAbvGr'])\nprint(test[test['KitchenAbvGr']==1]['KitchenQual'].mode())\ntest['KitchenQual'].fillna(value='TA', inplace=True)",
      "execution_count": null,
      "outputs": []
    },
    {
      "metadata": {
        "trusted": true
      },
      "cell_type": "code",
      "source": "test[test['Id']==2577][['GarageType', 'GarageFinish', 'GarageCond', 'GarageQual', 'GarageCars', 'GarageArea']]",
      "execution_count": null,
      "outputs": []
    },
    {
      "metadata": {},
      "cell_type": "markdown",
      "source": "It is missing a lot of garage values which usually means there is no garage. However, with row 1116, it has a garagetype but no other values. Therefore, we will fill the rest with the mode/median of garages with the same type."
    },
    {
      "metadata": {
        "trusted": true,
        "scrolled": true
      },
      "cell_type": "code",
      "source": "print(test[test['GarageType']=='Detchd']['GarageCars'].mode())\nprint(test[test['GarageType']=='Detchd']['GarageArea'].median())",
      "execution_count": null,
      "outputs": []
    },
    {
      "metadata": {
        "trusted": true
      },
      "cell_type": "code",
      "source": "test['GarageCars'].fillna(value=1, inplace=True)\ntest['GarageArea'].fillna(value=384, inplace=True)",
      "execution_count": null,
      "outputs": []
    },
    {
      "metadata": {
        "trusted": true
      },
      "cell_type": "code",
      "source": "print(test[test['Id']==2490]['SaleCondition'])\nprint(test[test['SaleCondition']=='Normal']['SaleType'].mode())\ntest['SaleType'].fillna(value='WD', inplace=True)",
      "execution_count": null,
      "outputs": []
    },
    {
      "metadata": {
        "trusted": true
      },
      "cell_type": "code",
      "source": "two_null = ['Utilities', 'BsmtFullBath', 'BsmtHalfBath', 'Functional']\n\nfor col in two_null:\n    print(col)\n    print(test[test[col].isnull()])\n    print('\\n')",
      "execution_count": null,
      "outputs": []
    },
    {
      "metadata": {
        "trusted": true,
        "scrolled": true
      },
      "cell_type": "code",
      "source": "print(test['Utilities'].mode())\ntest['Utilities'].fillna(value='AllPub', inplace=True)",
      "execution_count": null,
      "outputs": []
    },
    {
      "metadata": {},
      "cell_type": "markdown",
      "source": "For BsmtFullBath and BsmtHalfBath, it would be sensible that if there is no basement, there will not be any basement bathrooms. We can check for rows where BsmtQual is null (meaning no basement) and see what the bathroom values are."
    },
    {
      "metadata": {
        "trusted": true,
        "scrolled": true
      },
      "cell_type": "code",
      "source": "test[test['BsmtQual'].isnull()]['BsmtFullBath']",
      "execution_count": null,
      "outputs": []
    },
    {
      "metadata": {},
      "cell_type": "markdown",
      "source": "It seems we are correct! We will go ahead and fill the nulls with 0.0, representing none."
    },
    {
      "metadata": {
        "trusted": true
      },
      "cell_type": "code",
      "source": "test[['BsmtFullBath', 'BsmtHalfBath']].fillna(value=0, inplace=True)",
      "execution_count": null,
      "outputs": []
    },
    {
      "metadata": {},
      "cell_type": "markdown",
      "source": "Since functionality rating of a home can be so different between similar types, we will use the mode to fill in the null values."
    },
    {
      "metadata": {
        "trusted": true
      },
      "cell_type": "code",
      "source": "print(test['Functional'].value_counts())\ntest['Functional'].fillna(value='Typ', inplace=True)",
      "execution_count": null,
      "outputs": []
    },
    {
      "metadata": {},
      "cell_type": "markdown",
      "source": "MSZoning also shouldn't have any nulls because all of them should have a label."
    },
    {
      "metadata": {
        "trusted": true
      },
      "cell_type": "code",
      "source": "test[test['MSZoning'].isnull()][['LotFrontage', 'LotArea', 'Street',\n       'Alley', 'LotShape', 'LandContour', 'Utilities', 'LotConfig',\n       'LandSlope', 'Neighborhood']]",
      "execution_count": null,
      "outputs": []
    },
    {
      "metadata": {
        "trusted": true
      },
      "cell_type": "code",
      "source": "test[test['Neighborhood']=='IDOTRR']['MSZoning'].value_counts()",
      "execution_count": null,
      "outputs": []
    },
    {
      "metadata": {
        "trusted": true
      },
      "cell_type": "code",
      "source": "test['MSZoning'].fillna(value='RM', inplace=True)",
      "execution_count": null,
      "outputs": []
    },
    {
      "metadata": {},
      "cell_type": "markdown",
      "source": "The exception is the 'Electrical' column in the train data. In the description, it does not have an option for no electrical system.\nLet's see what is going on in that row."
    },
    {
      "metadata": {
        "trusted": true
      },
      "cell_type": "code",
      "source": "train[train['Electrical'].isnull()]",
      "execution_count": null,
      "outputs": []
    },
    {
      "metadata": {},
      "cell_type": "markdown",
      "source": "To fill in the one missing value, we can try using the mode. To make it as accurate as possible, we will look at all rows with the same MsSubClass, the type of dwelling. We can then see what the mode is amongst rows of the same MsSubClass.\n\nBasically all housing with MsSubClass 80, which is a split or multi-level dwelling, has Standard Circuit Breakers & Romex (SBrkr) for the electrical system. So we will fill in the null value with 'SBrKr'. Double check to make sure the value was changed."
    },
    {
      "metadata": {
        "trusted": true
      },
      "cell_type": "code",
      "source": "train[train['MSSubClass'] == 80]['Electrical']\ntrain['Electrical'].fillna(value='SBrKr', inplace=True)",
      "execution_count": null,
      "outputs": []
    },
    {
      "metadata": {},
      "cell_type": "markdown",
      "source": "<h3> Other Missing Values </h3>  \n\nThe percentage of null values per column can be calculated."
    },
    {
      "metadata": {
        "trusted": true
      },
      "cell_type": "code",
      "source": "perc_null = (train_null.sort_values(ascending=False) / 1460) * 100\nperc_null[perc_null > 50.0]",
      "execution_count": null,
      "outputs": []
    },
    {
      "metadata": {
        "trusted": true
      },
      "cell_type": "code",
      "source": "test_perc_null = (test_null.sort_values(ascending=False) / 1460) * 100\ntest_perc_null[test_perc_null > 50.0]",
      "execution_count": null,
      "outputs": []
    },
    {
      "metadata": {
        "trusted": true
      },
      "cell_type": "code",
      "source": "col_w_null = train_null[train_null > 0].keys()\ntest_col_w_null = test_null[test_null > 0].keys()\n\nfor col in col_w_null:\n    if train[col].dtypes == float:\n        train[col].fillna(value=0, inplace=True)\n\nfor col in col_w_null:\n    if train[col].dtypes == object:\n        train[col].fillna(value='None', inplace=True)\n\ntrain[col_w_null].count()",
      "execution_count": null,
      "outputs": []
    },
    {
      "metadata": {
        "trusted": true
      },
      "cell_type": "code",
      "source": "train['BsmtExposure'].value_counts(dropna=False)",
      "execution_count": null,
      "outputs": []
    },
    {
      "metadata": {
        "trusted": true
      },
      "cell_type": "code",
      "source": "for col in test_col_w_null:\n    if test[col].dtypes == float:\n        test[col].fillna(value=0, inplace=True)\n\nfor col in test_col_w_null:\n    if test[col].dtypes == object:\n        test[col].fillna(value='None', inplace=True)\n\ntest[test_col_w_null].count()",
      "execution_count": null,
      "outputs": []
    },
    {
      "metadata": {
        "trusted": true
      },
      "cell_type": "code",
      "source": "test['BsmtExposure'].value_counts(dropna=False)",
      "execution_count": null,
      "outputs": []
    },
    {
      "metadata": {},
      "cell_type": "markdown",
      "source": "<h2> Target Variable </h2>"
    },
    {
      "metadata": {
        "trusted": true
      },
      "cell_type": "code",
      "source": "label.isnull().any()",
      "execution_count": null,
      "outputs": []
    },
    {
      "metadata": {
        "trusted": true
      },
      "cell_type": "code",
      "source": "sns.distplot(label)\nplt.show()\nprint('Skew: ', label.skew())\nprint('Kurtosis: ', label.kurt())\n#https://www.itl.nist.gov/div898/handbook/eda/eda.htm",
      "execution_count": null,
      "outputs": []
    },
    {
      "metadata": {
        "trusted": true
      },
      "cell_type": "code",
      "source": "sns.distplot(np.log1p(label))\nplt.show()\nprint('Skew: ', np.log1p(label).skew())\nprint('Kurtosis: ', np.log1p(label).kurt())",
      "execution_count": null,
      "outputs": []
    },
    {
      "metadata": {
        "trusted": true
      },
      "cell_type": "markdown",
      "source": "<h2> Encoding Features </h2>"
    },
    {
      "metadata": {
        "trusted": true
      },
      "cell_type": "code",
      "source": "from sklearn import preprocessing\nenc = preprocessing.LabelEncoder()",
      "execution_count": null,
      "outputs": []
    },
    {
      "metadata": {},
      "cell_type": "markdown",
      "source": "    MSSubClass seem to have numerical values but they represent classes that is not higher than one another\n    MSSubClass:\n    20  1-STORY 1946 & NEWER ALL STYLES\n    30  1-STORY 1945 & OLDER\n    40  1-STORY W/FINISHED ATTIC ALL AGES\n    45  1-1/2 STORY - UNFINISHED ALL AGES\n    50  1-1/2 STORY FINISHED ALL AGES\n    60  2-STORY 1946 & NEWER\n    70  2-STORY 1945 & OLDER\n    75  2-1/2 STORY ALL AGES\n    80  SPLIT OR MULTI-LEVEL\n    85  SPLIT FOYER\n    90  DUPLEX - ALL STYLES AND AGES\n    120  1-STORY PUD (Planned Unit Development) - 1946 & NEWER\n    150  1-1/2 STORY PUD - ALL AGES\n    160  2-STORY PUD - 1946 & NEWER\n    180  PUD - MULTILEVEL - INCL SPLIT LEV/FOYER\n    190  2 FAMILY CONVERSION - ALL STYLES AND AGES"
    },
    {
      "metadata": {
        "trusted": true,
        "scrolled": true
      },
      "cell_type": "code",
      "source": "train.corr()['MSSubClass']['SalePrice']",
      "execution_count": null,
      "outputs": []
    },
    {
      "metadata": {},
      "cell_type": "markdown",
      "source": "As expected, there is not much correlation between the MSSubClass and SalePrice."
    },
    {
      "metadata": {
        "trusted": true,
        "scrolled": true
      },
      "cell_type": "code",
      "source": "map_dict = {}\nmap_dict.update(map_dict.fromkeys({20,30,40,120}, '1-Story'))\nmap_dict.update(map_dict.fromkeys({45,50,150}, '1.5-Story'))\nmap_dict.update(map_dict.fromkeys({60,70,75,160}, '2-Story'))\nmap_dict.update(map_dict.fromkeys({80,85,180}, 'Split/Multilevel'))\nmap_dict.update(map_dict.fromkeys({90,190}, 'Other'))\nmap_dict",
      "execution_count": null,
      "outputs": []
    },
    {
      "metadata": {
        "trusted": true
      },
      "cell_type": "code",
      "source": "train['MSSubClass'] = train['MSSubClass'].map(map_dict)\ntrain['MSSubClass'].value_counts(dropna=False)\n\ntest['MSSubClass'] = test['MSSubClass'].map(map_dict)\ntest['MSSubClass'].value_counts(dropna=False)",
      "execution_count": null,
      "outputs": []
    },
    {
      "metadata": {
        "trusted": true
      },
      "cell_type": "code",
      "source": "print(train.corr()['LotArea']['SalePrice'])\nprint(train.corr()['LotFrontage']['SalePrice'])\n\n# drop 'LotArea', 'LotFrontage'",
      "execution_count": null,
      "outputs": []
    },
    {
      "metadata": {
        "trusted": true
      },
      "cell_type": "code",
      "source": "plt.figure(figsize=(20,6))\nsns.boxplot(y='SalePrice', x='Neighborhood', data=train)",
      "execution_count": null,
      "outputs": []
    },
    {
      "metadata": {
        "trusted": true
      },
      "cell_type": "code",
      "source": "train['Neighborhood'].value_counts()\n\n# drop 'Neighborhood'",
      "execution_count": null,
      "outputs": []
    },
    {
      "metadata": {
        "trusted": true
      },
      "cell_type": "code",
      "source": "print(train['MasVnrType'].value_counts())\nprint(train['MasVnrType'].describe())",
      "execution_count": null,
      "outputs": []
    },
    {
      "metadata": {
        "trusted": true
      },
      "cell_type": "code",
      "source": "sns.boxplot(x='MasVnrType', y='SalePrice', data=train)",
      "execution_count": null,
      "outputs": []
    },
    {
      "metadata": {
        "trusted": true
      },
      "cell_type": "code",
      "source": "sns.scatterplot('MasVnrArea', 'SalePrice', data=train, alpha=0.5)",
      "execution_count": null,
      "outputs": []
    },
    {
      "metadata": {},
      "cell_type": "markdown",
      "source": "Years: *drop* YearBuilt, *remove* YearRemodAdd, *drop* GarageYrBlt, *drop* YrSold"
    },
    {
      "metadata": {
        "trusted": true
      },
      "cell_type": "code",
      "source": "train['HomeAge'] = train['YrSold'] - train['YearBuilt']\ntrain.head()\n\ntest['HomeAge'] = test['YrSold'] - test['YearBuilt']\ntest.head()",
      "execution_count": null,
      "outputs": []
    },
    {
      "metadata": {
        "trusted": true
      },
      "cell_type": "code",
      "source": "train[train['HomeAge'] < 0][['YearBuilt', 'YrSold', 'HomeAge']]",
      "execution_count": null,
      "outputs": []
    },
    {
      "metadata": {
        "trusted": true
      },
      "cell_type": "code",
      "source": "test[test['HomeAge'] < 0][['YearBuilt', 'YrSold', 'HomeAge', 'SaleType', 'SaleCondition']]",
      "execution_count": null,
      "outputs": []
    },
    {
      "metadata": {
        "trusted": true
      },
      "cell_type": "code",
      "source": "for value in test['HomeAge']:\n    if value < 0:\n        test['HomeAge'].replace(value, 0, inplace=True)",
      "execution_count": null,
      "outputs": []
    },
    {
      "metadata": {
        "trusted": true
      },
      "cell_type": "code",
      "source": "test['GarageYrBlt'].replace(2207, 2007, inplace=True)\ntest[test['Id']==2593]['GarageYrBlt']",
      "execution_count": null,
      "outputs": []
    },
    {
      "metadata": {
        "trusted": true
      },
      "cell_type": "code",
      "source": "train['GarageAge'] = train['YrSold'] - train['GarageYrBlt']\ntrain.head()\n\ntest['GarageAge'] = test['YrSold'] - test['GarageYrBlt']\ntest.head()",
      "execution_count": null,
      "outputs": []
    },
    {
      "metadata": {
        "trusted": true,
        "scrolled": true
      },
      "cell_type": "code",
      "source": "print(train[train['GarageAge'] < 0][['GarageYrBlt', 'YrSold', 'GarageAge']])\ntrain[train['GarageAge'] > 150][['GarageYrBlt', 'YrSold', 'GarageAge']]",
      "execution_count": null,
      "outputs": []
    },
    {
      "metadata": {
        "trusted": true,
        "scrolled": true
      },
      "cell_type": "code",
      "source": "print(test[test['GarageAge'] < 0][['Id','GarageYrBlt', 'YrSold', 'GarageAge']])\ntest[test['GarageAge'] > 150][['Id','GarageYrBlt', 'YrSold', 'GarageAge']]",
      "execution_count": null,
      "outputs": []
    },
    {
      "metadata": {
        "trusted": true
      },
      "cell_type": "code",
      "source": "for value in test['GarageAge']:\n    if value > 1000:\n        test['GarageAge'].replace(value, 0, inplace=True)\n    if value < 0:\n        test['GarageAge'].replace(value, 0, inplace=True)\n\nfor value in train['GarageAge']:\n    if value > 1000:\n        train['GarageAge'].replace(value, 0, inplace=True)\n\n# drop 'YearBuilt', 'YearRemodAdd', 'GarageYrBlt', 'YrSold'",
      "execution_count": null,
      "outputs": []
    },
    {
      "metadata": {},
      "cell_type": "markdown",
      "source": "<h3> Binary: Utilities, CentralAir, PavedDrive, PoolArea </h3>"
    },
    {
      "metadata": {
        "trusted": true
      },
      "cell_type": "code",
      "source": "train['drivepaved'] = train['PavedDrive'].apply(lambda x: 0 if x == 'N' else 1)\n# train['PavedDrive'].replace(['N', 'Y', 'P'], [0,1,1], inplace=True)\nprint('train', train['drivepaved'].value_counts(dropna=False))\n\ntest['drivepaved'] = test['PavedDrive'].apply(lambda x: 0 if x == 'N' else 1)\n# test['PavedDrive'].replace(['N', 'Y', 'P'], [0,1,1], inplace=True)\nprint('test', test['drivepaved'].value_counts(dropna=False))\n\n# drop 'PavedDrive'",
      "execution_count": null,
      "outputs": []
    },
    {
      "metadata": {
        "trusted": true
      },
      "cell_type": "code",
      "source": "train['hasutil'] = train['Utilities'].apply(lambda x: 1 if x == 'AllPub' else 0)\n# train['Utilities'].replace(['AllPub', 'NoSeWa'], [1, 0], inplace=True)\nprint(train['hasutil'].value_counts(dropna=False))\n\ntest['hasutil'] = test['Utilities'].apply(lambda x: 1 if x == 'AllPub' else 0)\n# test['Utilities'].replace(['AllPub', 'NoSeWa'], [1, 0], inplace=True)\nprint(test['hasutil'].value_counts(dropna=False))\n\n# drop 'Utilities'",
      "execution_count": null,
      "outputs": []
    },
    {
      "metadata": {
        "trusted": true
      },
      "cell_type": "code",
      "source": "train['CentralAir'] = enc.fit_transform(train['CentralAir'])\nprint(train['CentralAir'].value_counts(dropna=False))\n\ntest['CentralAir'] = enc.fit_transform(test['CentralAir'])\nprint(test['CentralAir'].value_counts(dropna=False))",
      "execution_count": null,
      "outputs": []
    },
    {
      "metadata": {
        "trusted": true
      },
      "cell_type": "code",
      "source": "train['haspool'] = train['PoolArea'].apply(lambda x: 1 if x > 0 else 0)\n# for val in train[train['PoolArea'] > 0]['PoolArea']:\n#     train['PoolArea'].replace(val, 1, inplace=True)\nprint(train['haspool'].value_counts(dropna=False))\n\ntest['haspool'] = test['PoolArea'].apply(lambda x: 1 if x > 0 else 0)\n# for val in test[test['PoolArea'] > 0]['PoolArea']:\n#     test['PoolArea'].replace(val, 1, inplace=True)\nprint(test['haspool'].value_counts(dropna=False))\n\n# drop 'PoolArea'",
      "execution_count": null,
      "outputs": []
    },
    {
      "metadata": {
        "trusted": true
      },
      "cell_type": "markdown",
      "source": "Discrete: (BsmtFullBath, BsmtHalfBath, FullBath, HalfBath), *remove* BedroomAbvGr, *remove* KitchenAbvGr, TotRmsAbvGrd, Fireplaces, GarageCars"
    },
    {
      "metadata": {
        "trusted": true
      },
      "cell_type": "code",
      "source": "print(train['BsmtFullBath'].value_counts())\ntrain['BsmtHalfBath'].value_counts(dropna=False)",
      "execution_count": null,
      "outputs": []
    },
    {
      "metadata": {
        "trusted": true
      },
      "cell_type": "code",
      "source": "train['Bathrooms'] = train['BsmtFullBath'] + train['BsmtHalfBath']*0.5 + train['FullBath'] + train['HalfBath']*0.5\n\ntest['Bathrooms'] = test['BsmtFullBath'] + test['BsmtHalfBath']*0.5 + test['FullBath'] + test['HalfBath']*0.5\n\ntrain.corr()['Bathrooms']['SalePrice']\n\n# drop 'BsmtFullBath', 'BsmtHalfBath', 'FullBath', 'HalfBath'",
      "execution_count": null,
      "outputs": []
    },
    {
      "metadata": {
        "trusted": true
      },
      "cell_type": "code",
      "source": "train['TotalPorchSF'] = train['WoodDeckSF'] + train['OpenPorchSF'] + train['EnclosedPorch'] + train['3SsnPorch'] + train['ScreenPorch']\n\ntest['TotalPorchSF'] = test['WoodDeckSF'] + test['OpenPorchSF'] + test['EnclosedPorch'] + test['3SsnPorch'] + test['ScreenPorch']\n\nprint(train.corr()['TotalPorchSF']['SalePrice'])\n\n# drop 'WoodDeckSF', 'OpenPorchSF', 'EnclosedPorch', '3SsnPorch', 'ScreenPorch'",
      "execution_count": null,
      "outputs": []
    },
    {
      "metadata": {
        "trusted": true
      },
      "cell_type": "code",
      "source": "print(train.corr()['TotRmsAbvGrd']['SalePrice'])\ntrain['TotRmsAbvGrd'].value_counts(dropna=False)",
      "execution_count": null,
      "outputs": []
    },
    {
      "metadata": {
        "trusted": true
      },
      "cell_type": "code",
      "source": "sns.scatterplot(x='TotRmsAbvGrd', y='SalePrice', data=train)",
      "execution_count": null,
      "outputs": []
    },
    {
      "metadata": {
        "trusted": true
      },
      "cell_type": "code",
      "source": "train.corr()['GarageArea']['SalePrice']",
      "execution_count": null,
      "outputs": []
    },
    {
      "metadata": {},
      "cell_type": "markdown",
      "source": "Garages: GarageArea, GarageAge, GarageCars, *remove rest* GarageCond, GarageFinish, GarageQual, GarageType, GarageYrBlt"
    },
    {
      "metadata": {
        "trusted": true
      },
      "cell_type": "code",
      "source": "print(train['GarageCars'].value_counts(dropna=False))\ntrain.corr()['GarageCars']['SalePrice']",
      "execution_count": null,
      "outputs": []
    },
    {
      "metadata": {},
      "cell_type": "markdown",
      "source": "cat_to_ord: *remove* (LotShape, LandSlope), ExterQual, *remove* ExterCond, BsmtQual, *remove* BsmtCond, BsmtExposure, HeatingQC, *Remove* KitchenAbvGr, KitchenQual, FireplaceQu"
    },
    {
      "metadata": {
        "trusted": true
      },
      "cell_type": "code",
      "source": "print(train.corr()['KitchenAbvGr']['SalePrice'])\nsns.boxplot(x='KitchenQual', y='SalePrice', data=train)\n\n# drop 'KitchenAbvGr'",
      "execution_count": null,
      "outputs": []
    },
    {
      "metadata": {
        "trusted": true
      },
      "cell_type": "code",
      "source": "train['Fireplaces'].value_counts(dropna=False)",
      "execution_count": null,
      "outputs": []
    },
    {
      "metadata": {
        "trusted": true
      },
      "cell_type": "code",
      "source": "print(train.corr()['Fireplaces']['SalePrice'])\nsns.boxplot(x='FireplaceQu', y='SalePrice',data=train)",
      "execution_count": null,
      "outputs": []
    },
    {
      "metadata": {
        "trusted": true
      },
      "cell_type": "code",
      "source": "cat_to = ['ExterQual', 'ExterCond', 'BsmtQual', 'BsmtCond','HeatingQC', 'KitchenQual',\n          'FireplaceQu', 'GarageQual', 'GarageCond','PoolQC']\nfor x in cat_to:\n    print(train[x].value_counts())\nprint('\\n')\nfor x in cat_to:\n    print(test[x].value_counts())",
      "execution_count": null,
      "outputs": []
    },
    {
      "metadata": {
        "trusted": true
      },
      "cell_type": "code",
      "source": "qual_map = {'None': 0, 'Po': 1, 'Fa': 2, 'TA': 3, 'Gd': 4, 'Ex': 5}\nfor col in cat_to:\n    train[col] = train[col].map(qual_map)\n    print(train[col].value_counts(dropna=False))\n    print(train.corr()[col]['SalePrice'])\n    print('\\n')\n    \nfor col in cat_to:\n    test[col] = test[col].map(qual_map)\n    print(test[col].value_counts(dropna=False))\n    print('\\n')",
      "execution_count": null,
      "outputs": []
    },
    {
      "metadata": {
        "trusted": true
      },
      "cell_type": "code",
      "source": "train.corr()['SalePrice'][cat_to]",
      "execution_count": null,
      "outputs": []
    },
    {
      "metadata": {
        "trusted": true
      },
      "cell_type": "code",
      "source": "morecols = ['LotShape', 'LandSlope', 'BsmtExposure']",
      "execution_count": null,
      "outputs": []
    },
    {
      "metadata": {
        "trusted": true
      },
      "cell_type": "code",
      "source": "for x in morecols:\n    print(train[x].value_counts(dropna=False))\n    \nfor x in morecols:\n    print(test[x].value_counts(dropna=False))",
      "execution_count": null,
      "outputs": []
    },
    {
      "metadata": {
        "trusted": true
      },
      "cell_type": "code",
      "source": "lotshape_map = {'Reg': 0, 'IR1': 1, 'IR2': 2, 'IR3': 3}\ntrain['LotShape'] = train['LotShape'].map(lotshape_map)\nprint(train['LotShape'].value_counts(dropna=False))\nprint(train.corr()['LotShape']['SalePrice'])\n\ntest['LotShape'] = test['LotShape'].map(lotshape_map)\nprint(test['LotShape'].value_counts(dropna=False))",
      "execution_count": null,
      "outputs": []
    },
    {
      "metadata": {
        "trusted": true
      },
      "cell_type": "code",
      "source": "landslope_map = {'Gtl': 0, 'Mod': 1, 'Sev': 2}\ntrain['LandSlope'] = train['LandSlope'].map(landslope_map)\nprint(train['LandSlope'].value_counts(dropna=False))\nprint(train.corr()['LandSlope']['SalePrice'])\n\ntest['LandSlope'] = test['LandSlope'].map(landslope_map)\nprint(test['LandSlope'].value_counts(dropna=False))",
      "execution_count": null,
      "outputs": []
    },
    {
      "metadata": {
        "trusted": true
      },
      "cell_type": "code",
      "source": "sns.boxplot(x='BsmtExposure', y='SalePrice', data=train)",
      "execution_count": null,
      "outputs": []
    },
    {
      "metadata": {
        "trusted": true,
        "scrolled": true
      },
      "cell_type": "code",
      "source": "bsmtexp_map = {'None': 0, 'No': 1, 'Mn': 2, 'Av': 3, 'Gd': 4}\ntrain['BsmtExposure'] = train['BsmtExposure'].map(bsmtexp_map)\nprint(train['BsmtExposure'].value_counts(dropna=False))\nprint(train.corr()['BsmtExposure']['SalePrice'])\n\ntest['BsmtExposure'] = test['BsmtExposure'].map(bsmtexp_map)\nprint(test['BsmtExposure'].value_counts(dropna=False))",
      "execution_count": null,
      "outputs": []
    },
    {
      "metadata": {
        "trusted": true
      },
      "cell_type": "code",
      "source": "train[morecols].corr()",
      "execution_count": null,
      "outputs": []
    },
    {
      "metadata": {
        "trusted": true
      },
      "cell_type": "code",
      "source": "for col in train.columns[1:]:\n    print(train[col].value_counts())",
      "execution_count": null,
      "outputs": []
    },
    {
      "metadata": {
        "trusted": true
      },
      "cell_type": "code",
      "source": "train.corr()['Bathrooms']['SalePrice']",
      "execution_count": null,
      "outputs": []
    },
    {
      "metadata": {
        "trusted": true
      },
      "cell_type": "code",
      "source": "train[['WoodDeckSF', 'OpenPorchSF', 'EnclosedPorch', '3SsnPorch', 'ScreenPorch', 'SalePrice']].corr()",
      "execution_count": null,
      "outputs": []
    },
    {
      "metadata": {
        "trusted": true
      },
      "cell_type": "code",
      "source": "train[['BsmtFinSF1', 'BsmtFinSF2', 'BsmtUnfSF', 'TotalBsmtSF', 'SalePrice']].corr()",
      "execution_count": null,
      "outputs": []
    },
    {
      "metadata": {
        "trusted": true
      },
      "cell_type": "code",
      "source": "for col in test.columns[1:]:\n    print(test[col].value_counts())",
      "execution_count": null,
      "outputs": []
    },
    {
      "metadata": {
        "trusted": true
      },
      "cell_type": "code",
      "source": "train.corr().style.background_gradient(cmap='coolwarm')",
      "execution_count": null,
      "outputs": []
    },
    {
      "metadata": {
        "trusted": true
      },
      "cell_type": "code",
      "source": "train_corr = train.corr()\nhigh_corr = train_corr.index[abs(train_corr['SalePrice']) > 0.4]\nplt.figure(figsize=(10,10))\nsns.heatmap(train[high_corr].corr(), annot=True)",
      "execution_count": null,
      "outputs": []
    },
    {
      "metadata": {
        "trusted": true
      },
      "cell_type": "code",
      "source": "num_cols = [c for c in train.drop('Id', axis=1) if train.dtypes[c] != object]\nprint(num_cols)\nprint('\\n')\ncat_cols = [c for c in train if train.dtypes[c] == object]\nprint(cat_cols)",
      "execution_count": null,
      "outputs": []
    },
    {
      "metadata": {
        "trusted": true
      },
      "cell_type": "code",
      "source": "for col in num_cols:\n    sns.lmplot(col, 'SalePrice', train)\n    plt.show()",
      "execution_count": null,
      "outputs": []
    },
    {
      "metadata": {
        "trusted": true
      },
      "cell_type": "code",
      "source": "train = train.drop(train[train['LotFrontage'] > 270].index)",
      "execution_count": null,
      "outputs": []
    },
    {
      "metadata": {
        "trusted": true
      },
      "cell_type": "code",
      "source": "sns.scatterplot(x='LotFrontage', y='SalePrice', data=train)",
      "execution_count": null,
      "outputs": []
    },
    {
      "metadata": {
        "trusted": true
      },
      "cell_type": "code",
      "source": "train = train.drop(train[train['LotArea'] > 100000].index)\nprint(train.corr()['LotArea']['SalePrice'])\nsns.scatterplot(x='LotArea', y='SalePrice', data=train)",
      "execution_count": null,
      "outputs": []
    },
    {
      "metadata": {
        "trusted": true
      },
      "cell_type": "code",
      "source": "train[train['1stFlrSF'] > 4000]\nsns.scatterplot(x='1stFlrSF', y='SalePrice', data=train)",
      "execution_count": null,
      "outputs": []
    },
    {
      "metadata": {
        "trusted": true
      },
      "cell_type": "code",
      "source": "train = train.drop(train[(train['SalePrice'] < 200000) & (train['GrLivArea'] > 4000)].index)\nprint(train.corr()['GrLivArea']['SalePrice'])\nsns.scatterplot(x='GrLivArea', y='SalePrice', data=train)",
      "execution_count": null,
      "outputs": []
    },
    {
      "metadata": {
        "trusted": true,
        "scrolled": true
      },
      "cell_type": "code",
      "source": "for col in cat_cols:\n    sns.countplot(x=col, data=train)\n    plt.show()\n\n# for col in cat_cols:\n#     sns.boxplot(col, 'SalePrice', data=train)\n#     plt.show()",
      "execution_count": null,
      "outputs": []
    },
    {
      "metadata": {
        "trusted": true
      },
      "cell_type": "code",
      "source": "skewed = train[num_cols].apply(lambda x: skew(x))\nskewed = skewed[skewed >0.75].index\n\n# for col in num_cols:\n#     sns.distplot(train[col], bins=30)\n#     plt.show()",
      "execution_count": null,
      "outputs": []
    },
    {
      "metadata": {
        "trusted": true
      },
      "cell_type": "code",
      "source": "train[skewed] = np.log1p(train[skewed])\ntest[skewed] = np.log1p(test[skewed])",
      "execution_count": null,
      "outputs": []
    },
    {
      "metadata": {},
      "cell_type": "markdown",
      "source": "<h2> Feature Preparation </h2>"
    },
    {
      "metadata": {
        "trusted": true
      },
      "cell_type": "code",
      "source": "from sklearn import preprocessing",
      "execution_count": null,
      "outputs": []
    },
    {
      "metadata": {
        "trusted": true
      },
      "cell_type": "markdown",
      "source": "Drop columns where we created a new calculated column."
    },
    {
      "metadata": {
        "trusted": true
      },
      "cell_type": "code",
      "source": "drop_cols = ['Id','LotArea', 'LotFrontage','Neighborhood','Exterior2nd','BldgType','Condition2','ExterCond','BsmtCond',\n             'YearBuilt', 'YearRemodAdd','GarageYrBlt','YrSold','PavedDrive','Utilities','PoolArea',\n             'BsmtFinSF1','BsmtFinSF2','BsmtUnfSF','1stFlrSF','2ndFlrSF','LowQualFinSF',\n             'MiscVal','WoodDeckSF','OpenPorchSF','EnclosedPorch','3SsnPorch','ScreenPorch']\n\ncreated = ['Id','Heating','Electrical','Exterior1st','Exterior2nd','Neighborhood','MiscFeature','Condition2','HouseStyle','RoofMatl','YearBuilt',\n           'YearRemodAdd','GarageYrBlt','YrSold','PavedDrive','Utilities','PoolArea',\n           'BsmtFinSF1','BsmtFinSF2','BsmtUnfSF','1stFlrSF','2ndFlrSF','LowQualFinSF','MiscVal',\n           'WoodDeckSF','OpenPorchSF','EnclosedPorch','3SsnPorch','ScreenPorch']",
      "execution_count": null,
      "outputs": []
    },
    {
      "metadata": {
        "trusted": true
      },
      "cell_type": "code",
      "source": "df2 = train.drop(created, axis=1)\ntest_df = test.drop(created, axis=1)\n\nprint(df2.shape)\nprint(test_df.shape)",
      "execution_count": null,
      "outputs": []
    },
    {
      "metadata": {
        "trusted": true
      },
      "cell_type": "code",
      "source": "num_cols = [c for c in df2.drop('SalePrice', axis=1) if df2.dtypes[c] != object]\nprint(num_cols)\nprint('\\n')\ncat_cols = [c for c in df2 if df2.dtypes[c] == object]\nprint(cat_cols)",
      "execution_count": null,
      "outputs": []
    },
    {
      "metadata": {
        "trusted": true
      },
      "cell_type": "code",
      "source": "Features = pd.get_dummies(data=df2[cat_cols])\npred_Features = pd.get_dummies(data=test_df[cat_cols])\n\nprint(Features.shape)\nprint(pred_Features.shape)",
      "execution_count": null,
      "outputs": []
    },
    {
      "metadata": {
        "trusted": true
      },
      "cell_type": "code",
      "source": "Features = np.concatenate([Features, np.array(df2[num_cols])], axis=1)\npred_Features = np.concatenate([pred_Features, np.array(test_df[num_cols])], axis=1)\n\nprint(Features.shape)\nprint(pred_Features.shape)",
      "execution_count": null,
      "outputs": []
    },
    {
      "metadata": {
        "trusted": true
      },
      "cell_type": "markdown",
      "source": "<h1> Training Model </h1>"
    },
    {
      "metadata": {},
      "cell_type": "markdown",
      "source": "Import Scikit-learn functions that we will be using."
    },
    {
      "metadata": {
        "trusted": true
      },
      "cell_type": "code",
      "source": "import sklearn.metrics as sklm\nfrom sklearn.model_selection import train_test_split",
      "execution_count": null,
      "outputs": []
    },
    {
      "metadata": {
        "trusted": true
      },
      "cell_type": "code",
      "source": "label = np.array(np.log1p(df2['SalePrice']))\n\nX = Features\ny = label\nX_train, X_test, y_train, y_test = train_test_split(X, y, test_size=0.3)",
      "execution_count": null,
      "outputs": []
    },
    {
      "metadata": {
        "trusted": true
      },
      "cell_type": "code",
      "source": "scaler = preprocessing.StandardScaler().fit(X_train[:, 106:])\nX_train[:, 106:] = scaler.transform(X_train[:, 106:])\n\nX_test[:, 106:] = scaler.transform(X_test[:, 106:])\nX_train[5]",
      "execution_count": null,
      "outputs": []
    },
    {
      "metadata": {
        "trusted": true
      },
      "cell_type": "code",
      "source": "print(X_train.shape)\nprint(X_test.shape)\nnp.argwhere(np.isnan(X_train))",
      "execution_count": null,
      "outputs": []
    },
    {
      "metadata": {},
      "cell_type": "markdown",
      "source": "<h1> Models </h1>"
    },
    {
      "metadata": {
        "trusted": true
      },
      "cell_type": "code",
      "source": "from sklearn.ensemble import RandomForestRegressor, GradientBoostingRegressor\nfrom sklearn.linear_model import LinearRegression, Lasso, Ridge\nfrom sklearn.model_selection import KFold, cross_validate, GridSearchCV",
      "execution_count": 1,
      "outputs": [
        {
          "output_type": "stream",
          "text": "/home/nbuser/anaconda3_501/lib/python3.6/importlib/_bootstrap.py:219: RuntimeWarning: numpy.ufunc size changed, may indicate binary incompatibility. Expected 216, got 192\n  return f(*args, **kwds)\n",
          "name": "stderr"
        }
      ]
    },
    {
      "metadata": {
        "trusted": true
      },
      "cell_type": "code",
      "source": "",
      "execution_count": null,
      "outputs": []
    },
    {
      "metadata": {
        "trusted": true
      },
      "cell_type": "code",
      "source": "",
      "execution_count": null,
      "outputs": []
    },
    {
      "metadata": {
        "trusted": true
      },
      "cell_type": "code",
      "source": "",
      "execution_count": null,
      "outputs": []
    },
    {
      "metadata": {
        "trusted": true
      },
      "cell_type": "code",
      "source": "",
      "execution_count": null,
      "outputs": []
    },
    {
      "metadata": {},
      "cell_type": "markdown",
      "source": "<h3> Linear Regression </h3>"
    },
    {
      "metadata": {
        "trusted": true
      },
      "cell_type": "code",
      "source": "lin_mod = LinearRegression()\nlin_mod.fit(X_train, y_train)\nlin_pred = lin_mod.predict(X_test)",
      "execution_count": null,
      "outputs": []
    },
    {
      "metadata": {
        "trusted": true
      },
      "cell_type": "code",
      "source": "def print_metrics(y_true, y_predicted, n_parameters):\n    ## First compute R^2 and the adjusted R^2\n    r2 = sklm.r2_score(y_true, y_predicted)\n    r2_adj = r2 - (n_parameters - 1)/(y_true.shape[0] - n_parameters) * (1 - r2)\n    \n    ## Print the usual metrics and the R^2 values\n    print('Mean Square Error      = ' + str(sklm.mean_squared_error(y_true, y_predicted)))\n    print('Root Mean Square Error = ' + str(math.sqrt(sklm.mean_squared_error(y_true, y_predicted))))\n    print('Mean Absolute Error    = ' + str(sklm.mean_absolute_error(y_true, y_predicted)))\n    print('Median Absolute Error  = ' + str(sklm.median_absolute_error(y_true, y_predicted)))\n    print('R^2                    = ' + str(r2))\n    print('Adjusted R^2           = ' + str(r2_adj))\n   \nprint_metrics(y_test, lin_pred, 0)\n\n# lin_final = lin_mod.predict(pred_Features)\n# for x in lin_final:\n#     print(round(np.exp(x),3))",
      "execution_count": null,
      "outputs": []
    },
    {
      "metadata": {},
      "cell_type": "markdown",
      "source": "<h3> Gradient Boosting Regressor </h3>"
    },
    {
      "metadata": {
        "trusted": true
      },
      "cell_type": "code",
      "source": "GB_regressor = GradientBoostingRegressor(n_estimators = 600, random_state=0)\nGB_regressor.fit(X_train, y_train)\n\nGB_regressor.feature_importances_\ngbr_pred = GB_regressor.predict(X_test)",
      "execution_count": null,
      "outputs": []
    },
    {
      "metadata": {
        "trusted": true
      },
      "cell_type": "code",
      "source": "def print_metrics(y_true, y_predicted, n_parameters):\n    ## First compute R^2 and the adjusted R^2\n    r2 = sklm.r2_score(y_true, y_predicted)\n    r2_adj = r2 - (n_parameters - 1)/(y_true.shape[0] - n_parameters) * (1 - r2)\n    \n    ## Print the usual metrics and the R^2 values\n    print('Mean Square Error      = ' + str(sklm.mean_squared_error(y_true, y_predicted)))\n    print('Root Mean Square Error = ' + str(math.sqrt(sklm.mean_squared_error(y_true, y_predicted))))\n    print('Mean Absolute Error    = ' + str(sklm.mean_absolute_error(y_true, y_predicted)))\n    print('Median Absolute Error  = ' + str(sklm.median_absolute_error(y_true, y_predicted)))\n    print('R^2                    = ' + str(r2))\n    print('Adjusted R^2           = ' + str(r2_adj))\n   \nprint_metrics(y_test, gbr_pred, 0)\n\n# gbr_final = GB_regressor.predict(pred_Features)\n# for x in gbr_final:\n#     print(round(np.exp(x),3))",
      "execution_count": null,
      "outputs": []
    }
  ],
  "metadata": {
    "kernelspec": {
      "name": "python36",
      "display_name": "Python 3.6",
      "language": "python"
    },
    "celltoolbar": "Raw Cell Format",
    "language_info": {
      "mimetype": "text/x-python",
      "nbconvert_exporter": "python",
      "name": "python",
      "pygments_lexer": "ipython3",
      "version": "3.6.6",
      "file_extension": ".py",
      "codemirror_mode": {
        "version": 3,
        "name": "ipython"
      }
    }
  },
  "nbformat": 4,
  "nbformat_minor": 2
}